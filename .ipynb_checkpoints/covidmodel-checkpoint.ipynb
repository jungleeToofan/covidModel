{
 "cells": [
  {
   "cell_type": "code",
   "execution_count": 5,
   "id": "51381db5",
   "metadata": {},
   "outputs": [],
   "source": [
    "import ipywidgets as widgets\n",
    "from IPython.display import display, clear_output"
   ]
  },
  {
   "cell_type": "code",
   "execution_count": 6,
   "id": "552bcdfa",
   "metadata": {
    "scrolled": true
   },
   "outputs": [
    {
     "name": "stderr",
     "output_type": "stream",
     "text": [
      "Enabling notebook extension jupyter-js-widgets/extension...\n",
      "      - Validating: ok\n",
      "Enabling: voila\n",
      "- Writing config: d:\\python\\etc\\jupyter\n",
      "    - Validating...\n",
      "      voila 0.2.10 ok\n"
     ]
    }
   ],
   "source": [
    "!jupyter nbextension enable --py widgetsnbextension --sys-prefix\n",
    "!jupyter serverextension enable voila --sys-prefix"
   ]
  },
  {
   "cell_type": "code",
   "execution_count": 7,
   "id": "b6185b33",
   "metadata": {
    "scrolled": true
   },
   "outputs": [],
   "source": [
    "import pandas as pd\n",
    "import seaborn as sns\n",
    "import matplotlib.pyplot as plt\n",
    "import numpy as np\n",
    "\n",
    "from pandas import ExcelFile\n",
    "Covid_Path = 'CovidModelData.csv'\n",
    "DF = pd.read_csv(Covid_Path)\n",
    "#print(DF)"
   ]
  },
  {
   "cell_type": "code",
   "execution_count": 8,
   "id": "523e7b7d",
   "metadata": {},
   "outputs": [],
   "source": [
    "X = DF.iloc[:, :-1]\n",
    "#print(X)\n",
    "\n",
    "y = DF.iloc[:,2]\n",
    "#print(y)"
   ]
  },
  {
   "cell_type": "code",
   "execution_count": 9,
   "id": "cdc97da3",
   "metadata": {},
   "outputs": [],
   "source": [
    "from sklearn import preprocessing\n",
    "import numpy as np\n",
    "scaler = preprocessing.StandardScaler().fit(X)"
   ]
  },
  {
   "cell_type": "code",
   "execution_count": 10,
   "id": "e47f69c7",
   "metadata": {},
   "outputs": [],
   "source": [
    "X_scaled = scaler.transform(X)\n",
    "#print(X_scaled)"
   ]
  },
  {
   "cell_type": "code",
   "execution_count": 11,
   "id": "812e16b7",
   "metadata": {},
   "outputs": [],
   "source": [
    "import numpy as np\n",
    "import pandas as pd\n",
    "from scipy import stats\n",
    "import matplotlib.pyplot as plt\n",
    "import statsmodels.api as sm\n",
    "from statsmodels.formula.api import logit"
   ]
  },
  {
   "cell_type": "code",
   "execution_count": 12,
   "id": "6f3a9eb9",
   "metadata": {},
   "outputs": [],
   "source": [
    "log_reg = sm.Logit(y, X_scaled).fit(disp=0)"
   ]
  },
  {
   "cell_type": "code",
   "execution_count": 13,
   "id": "c99a565a",
   "metadata": {
    "scrolled": true
   },
   "outputs": [],
   "source": [
    "#print(log_reg.summary())"
   ]
  },
  {
   "cell_type": "code",
   "execution_count": 14,
   "id": "532a772b",
   "metadata": {},
   "outputs": [],
   "source": [
    "yhat = log_reg.predict(X_scaled)\n",
    "prediction = list(map(round, yhat))"
   ]
  },
  {
   "cell_type": "code",
   "execution_count": 15,
   "id": "f7636d65",
   "metadata": {
    "scrolled": true
   },
   "outputs": [],
   "source": [
    "# print('Acutal values', list(y.values))\n",
    "# print('Predictions :', prediction)"
   ]
  },
  {
   "cell_type": "code",
   "execution_count": 16,
   "id": "6862f0d5",
   "metadata": {},
   "outputs": [],
   "source": [
    "from sklearn.metrics import (confusion_matrix, \n",
    "                           accuracy_score)"
   ]
  },
  {
   "cell_type": "code",
   "execution_count": 17,
   "id": "dff81af1",
   "metadata": {},
   "outputs": [],
   "source": [
    "cm = confusion_matrix(y, prediction) \n",
    "# print (\"Confusion Matrix : \\n\", cm)"
   ]
  },
  {
   "cell_type": "code",
   "execution_count": 18,
   "id": "12f362fa",
   "metadata": {
    "scrolled": false
   },
   "outputs": [],
   "source": [
    "# cm = confusion_matrix(y, prediction)\n",
    "\n",
    "# fig, ax = plt.subplots(figsize=(8, 8))\n",
    "# ax.imshow(cm)\n",
    "# ax.grid(False)\n",
    "# ax.xaxis.set(ticks=(0, 1), ticklabels=('Predicted 0s', 'Predicted 1s'))\n",
    "# ax.yaxis.set(ticks=(0, 1), ticklabels=('Actual 0s', 'Actual 1s'))\n",
    "# ax.set_ylim(1.5, -0.5)\n",
    "# for i in range(2):\n",
    "#     for j in range(2):\n",
    "#         ax.text(j, i, cm[i, j], ha='center', va='center', color='red')\n",
    "# plt.show()"
   ]
  },
  {
   "cell_type": "code",
   "execution_count": 19,
   "id": "309a7df9",
   "metadata": {},
   "outputs": [],
   "source": [
    "# print('Test accuracy = ', accuracy_score(y, prediction))"
   ]
  },
  {
   "cell_type": "code",
   "execution_count": 20,
   "id": "ae730fb8",
   "metadata": {},
   "outputs": [],
   "source": [
    "severityInput = widgets.IntSlider(\n",
    "            description='Severity',\n",
    "            value=1, \n",
    "            min=1, \n",
    "            max=3,\n",
    "            step=1,\n",
    "            style={'description_width': 'initial'}\n",
    "          )"
   ]
  },
  {
   "cell_type": "code",
   "execution_count": 21,
   "id": "b776f065",
   "metadata": {},
   "outputs": [],
   "source": [
    "ancInput = widgets.Text(\n",
    "            description='ANC',\n",
    "            placeholder='Enter ANC value here',\n",
    "            style={'description_width': 'initial'}\n",
    "            )"
   ]
  },
  {
   "cell_type": "code",
   "execution_count": 22,
   "id": "0afbeb35",
   "metadata": {},
   "outputs": [],
   "source": [
    "button_submit = widgets.Button(\n",
    "                description='Submit',\n",
    "                tooltip='Submit',\n",
    "                style={'description_width': 'initial'}\n",
    "            )\n",
    "output = widgets.Output()\n",
    "\n",
    "def on_button_clicked(event):\n",
    "    with output:\n",
    "        clear_output()\n",
    "        print(\"Calculating...\")\n",
    "        \n",
    "        ancInputValue = int(ancInput.value)\n",
    "        severityInputValue = int(severityInput.value)\n",
    "        inputDf = pd.DataFrame(columns=['ANC','Severity'])\n",
    "        inputDf.loc[0] = [ancInputValue,severityInputValue]\n",
    "#         print (inputDf)\n",
    "        scaledInput = scaler.transform(inputDf)\n",
    "#         print(scaledInput)\n",
    "        yhat = log_reg.predict(scaledInput)\n",
    "        \n",
    "#         testInputScaled = [[-3.42676880e-01, -1.00380050e+00]]\n",
    "#         yhat = log_reg.predict(testInputScaled)\n",
    "        \n",
    "        print(yhat)\n",
    "\n",
    "button_submit.on_click(on_button_clicked)\n",
    "vbox_result = widgets.VBox([button_submit, output])"
   ]
  },
  {
   "cell_type": "code",
   "execution_count": 23,
   "id": "acf2d369",
   "metadata": {
    "scrolled": true
   },
   "outputs": [
    {
     "data": {
      "application/vnd.jupyter.widget-view+json": {
       "model_id": "5aaa42dc26244973aaf558163d59bfa1",
       "version_major": 2,
       "version_minor": 0
      },
      "text/plain": [
       "IntSlider(value=1, description='Severity', max=3, min=1, style=SliderStyle(description_width='initial'))"
      ]
     },
     "metadata": {},
     "output_type": "display_data"
    },
    {
     "data": {
      "application/vnd.jupyter.widget-view+json": {
       "model_id": "4e67ffb1f7ba4499a15d0b589035f72f",
       "version_major": 2,
       "version_minor": 0
      },
      "text/plain": [
       "Text(value='', description='ANC', placeholder='Enter ANC value here', style=DescriptionStyle(description_width…"
      ]
     },
     "metadata": {},
     "output_type": "display_data"
    },
    {
     "data": {
      "application/vnd.jupyter.widget-view+json": {
       "model_id": "dfa54174563a428a840405a08762960d",
       "version_major": 2,
       "version_minor": 0
      },
      "text/plain": [
       "VBox(children=(Button(description='Submit', style=ButtonStyle(), tooltip='Submit'), Output()))"
      ]
     },
     "metadata": {},
     "output_type": "display_data"
    }
   ],
   "source": [
    "display(severityInput)\n",
    "display(ancInput)\n",
    "display(vbox_result)"
   ]
  }
 ],
 "metadata": {
  "celltoolbar": "Tags",
  "kernelspec": {
   "display_name": "Python 3",
   "language": "python",
   "name": "python3"
  },
  "language_info": {
   "codemirror_mode": {
    "name": "ipython",
    "version": 3
   },
   "file_extension": ".py",
   "mimetype": "text/x-python",
   "name": "python",
   "nbconvert_exporter": "python",
   "pygments_lexer": "ipython3",
   "version": "3.9.5"
  }
 },
 "nbformat": 4,
 "nbformat_minor": 5
}
