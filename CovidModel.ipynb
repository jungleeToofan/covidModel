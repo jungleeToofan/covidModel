{
 "cells": [
  {
   "cell_type": "code",
   "execution_count": 39,
   "id": "51381db5",
   "metadata": {},
   "outputs": [],
   "source": [
    "import ipywidgets as widgets\n",
    "from IPython.display import display, clear_output"
   ]
  },
  {
   "cell_type": "code",
   "execution_count": 62,
   "id": "552bcdfa",
   "metadata": {
    "scrolled": true
   },
   "outputs": [],
   "source": [
    "%%capture\n",
    "!jupyter nbextension enable --py widgetsnbextension --sys-prefix\n",
    "!jupyter serverextension enable voila --sys-prefix"
   ]
  },
  {
   "cell_type": "code",
   "execution_count": 41,
   "id": "b6185b33",
   "metadata": {
    "scrolled": true
   },
   "outputs": [],
   "source": [
    "import pandas as pd\n",
    "import seaborn as sns\n",
    "import matplotlib.pyplot as plt\n",
    "import numpy as np\n",
    "\n",
    "from pandas import ExcelFile\n",
    "Covid_Path = 'CovidModelData.csv'\n",
    "DF = pd.read_csv(Covid_Path)\n",
    "#print(DF)"
   ]
  },
  {
   "cell_type": "code",
   "execution_count": 42,
   "id": "523e7b7d",
   "metadata": {},
   "outputs": [],
   "source": [
    "X = DF.iloc[:, :-1]\n",
    "#print(X)\n",
    "\n",
    "y = DF.iloc[:,2]\n",
    "#print(y)"
   ]
  },
  {
   "cell_type": "code",
   "execution_count": 43,
   "id": "cdc97da3",
   "metadata": {},
   "outputs": [],
   "source": [
    "from sklearn import preprocessing\n",
    "import numpy as np\n",
    "scaler = preprocessing.StandardScaler().fit(X)"
   ]
  },
  {
   "cell_type": "code",
   "execution_count": 44,
   "id": "e47f69c7",
   "metadata": {},
   "outputs": [],
   "source": [
    "X_scaled = scaler.transform(X)\n",
    "#print(X_scaled)"
   ]
  },
  {
   "cell_type": "code",
   "execution_count": 45,
   "id": "812e16b7",
   "metadata": {},
   "outputs": [],
   "source": [
    "import numpy as np\n",
    "import pandas as pd\n",
    "from scipy import stats\n",
    "import matplotlib.pyplot as plt\n",
    "import statsmodels.api as sm\n",
    "from statsmodels.formula.api import logit"
   ]
  },
  {
   "cell_type": "code",
   "execution_count": 46,
   "id": "6f3a9eb9",
   "metadata": {},
   "outputs": [],
   "source": [
    "log_reg = sm.Logit(y, X_scaled).fit(disp=0)"
   ]
  },
  {
   "cell_type": "code",
   "execution_count": 47,
   "id": "c99a565a",
   "metadata": {
    "scrolled": true
   },
   "outputs": [],
   "source": [
    "#print(log_reg.summary())"
   ]
  },
  {
   "cell_type": "code",
   "execution_count": 48,
   "id": "532a772b",
   "metadata": {},
   "outputs": [],
   "source": [
    "yhat = log_reg.predict(X_scaled)\n",
    "prediction = list(map(round, yhat))"
   ]
  },
  {
   "cell_type": "code",
   "execution_count": 49,
   "id": "f7636d65",
   "metadata": {
    "scrolled": true
   },
   "outputs": [],
   "source": [
    "# print('Acutal values', list(y.values))\n",
    "# print('Predictions :', prediction)"
   ]
  },
  {
   "cell_type": "code",
   "execution_count": 50,
   "id": "6862f0d5",
   "metadata": {},
   "outputs": [],
   "source": [
    "from sklearn.metrics import (confusion_matrix, \n",
    "                           accuracy_score)"
   ]
  },
  {
   "cell_type": "code",
   "execution_count": 51,
   "id": "dff81af1",
   "metadata": {},
   "outputs": [],
   "source": [
    "cm = confusion_matrix(y, prediction) \n",
    "# print (\"Confusion Matrix : \\n\", cm)"
   ]
  },
  {
   "cell_type": "code",
   "execution_count": 52,
   "id": "12f362fa",
   "metadata": {
    "scrolled": false
   },
   "outputs": [],
   "source": [
    "# cm = confusion_matrix(y, prediction)\n",
    "\n",
    "# fig, ax = plt.subplots(figsize=(8, 8))\n",
    "# ax.imshow(cm)\n",
    "# ax.grid(False)\n",
    "# ax.xaxis.set(ticks=(0, 1), ticklabels=('Predicted 0s', 'Predicted 1s'))\n",
    "# ax.yaxis.set(ticks=(0, 1), ticklabels=('Actual 0s', 'Actual 1s'))\n",
    "# ax.set_ylim(1.5, -0.5)\n",
    "# for i in range(2):\n",
    "#     for j in range(2):\n",
    "#         ax.text(j, i, cm[i, j], ha='center', va='center', color='red')\n",
    "# plt.show()"
   ]
  },
  {
   "cell_type": "code",
   "execution_count": 53,
   "id": "309a7df9",
   "metadata": {},
   "outputs": [],
   "source": [
    "# print('Test accuracy = ', accuracy_score(y, prediction))"
   ]
  },
  {
   "cell_type": "code",
   "execution_count": 54,
   "id": "ae730fb8",
   "metadata": {},
   "outputs": [],
   "source": [
    "severityInput = widgets.IntSlider(\n",
    "            description='Severity',\n",
    "            value=1, \n",
    "            min=1, \n",
    "            max=3,\n",
    "            step=1,\n",
    "            style={'description_width': 'initial'}\n",
    "          )"
   ]
  },
  {
   "cell_type": "code",
   "execution_count": 55,
   "id": "b776f065",
   "metadata": {},
   "outputs": [],
   "source": [
    "ancInput = widgets.Text(\n",
    "            description='ANC',\n",
    "            placeholder='Enter ANC value here',\n",
    "            style={'description_width': 'initial'}\n",
    "            )"
   ]
  },
  {
   "cell_type": "code",
   "execution_count": 59,
   "id": "0afbeb35",
   "metadata": {},
   "outputs": [],
   "source": [
    "button_submit = widgets.Button(\n",
    "                description='Submit',\n",
    "                tooltip='Submit',\n",
    "                style={'description_width': 'initial'}\n",
    "            )\n",
    "output = widgets.Output()\n",
    "\n",
    "def on_button_clicked(event):\n",
    "    with output:\n",
    "        clear_output()\n",
    "        print(\"Score:\")\n",
    "        \n",
    "        ancInputValue = int(ancInput.value)\n",
    "        severityInputValue = int(severityInput.value)\n",
    "        inputDf = pd.DataFrame(columns=['ANC','Severity'])\n",
    "        inputDf.loc[0] = [ancInputValue,severityInputValue]\n",
    "#         print (inputDf)\n",
    "        scaledInput = scaler.transform(inputDf)\n",
    "#         print(scaledInput)\n",
    "        yhat = log_reg.predict(scaledInput)\n",
    "        \n",
    "#         testInputScaled = [[-3.42676880e-01, -1.00380050e+00]]\n",
    "#         yhat = log_reg.predict(testInputScaled)\n",
    "        \n",
    "        print(yhat)\n",
    "\n",
    "button_submit.on_click(on_button_clicked)\n",
    "vbox_result = widgets.VBox([button_submit, output])"
   ]
  },
  {
   "cell_type": "code",
   "execution_count": 60,
   "id": "acf2d369",
   "metadata": {
    "scrolled": true
   },
   "outputs": [
    {
     "name": "stdout",
     "output_type": "stream",
     "text": [
      "Model Name - 3C-M (Clinical severity & blood Counts in Covid-19 pneumonia for mortality prediction)\n",
      "Score developed by - Dr. Niharika Agarwal, Dr. Devika Dua\n",
      "\n",
      "IT Support by - Mr. Alo Chatterjee\n",
      "Academic support team - Dr. Madhur Yadav, Dr. Ritika Sud, Dr. Aparna Aggarwal, Dr. Anil Gurtoo, Dr. Vijesh Vijayan\n",
      "Department of Internal Medicine, Lady Harding Medical College\n",
      "\n",
      "Application to be used for diagnosed cases of Covid-19 pneumonia on presentation to hospital with pneumonia symptoms.\n",
      "\n",
      "ANC - Absolute Neutrophil Count\n",
      "(TLC- Total Leukocyte Count may be used in place of ANC if ANC not available)\n",
      "Clinical severity scale:\n",
      "1 = MILD - SpO2 >/= 95%\n",
      "2 = MODERATE - SpO2 90-94%\n",
      "3 = SEVERE - SpO2 < 90%\n",
      "Oxygen saturation parameter at room air.\n",
      "\n",
      "Score > 0.5 indicates high risk of mortality\n"
     ]
    },
    {
     "data": {
      "application/vnd.jupyter.widget-view+json": {
       "model_id": "a815d8b079f9441baf6ca8f7f5deffb1",
       "version_major": 2,
       "version_minor": 0
      },
      "text/plain": [
       "IntSlider(value=2, description='Severity', max=3, min=1, style=SliderStyle(description_width='initial'))"
      ]
     },
     "metadata": {},
     "output_type": "display_data"
    },
    {
     "data": {
      "application/vnd.jupyter.widget-view+json": {
       "model_id": "cf54eecf654d4c2d9d6ca390f644e4c5",
       "version_major": 2,
       "version_minor": 0
      },
      "text/plain": [
       "Text(value='4545', description='ANC', placeholder='Enter ANC value here', style=DescriptionStyle(description_w…"
      ]
     },
     "metadata": {},
     "output_type": "display_data"
    },
    {
     "data": {
      "application/vnd.jupyter.widget-view+json": {
       "model_id": "d39ca7a108634e1e914fd9dc06b37997",
       "version_major": 2,
       "version_minor": 0
      },
      "text/plain": [
       "VBox(children=(Button(description='Submit', style=ButtonStyle(), tooltip='Submit'), Output()))"
      ]
     },
     "metadata": {},
     "output_type": "display_data"
    }
   ],
   "source": [
    "print('Model Name - 3C-M (Clinical severity & blood Counts in Covid-19 pneumonia for mortality prediction)')\n",
    "print('Score developed by - Dr. Niharika Agarwal, Dr. Devika Dua')\n",
    "print('\\nIT Support by - Mr. Alo Chatterjee')\n",
    "print('Academic support team - Dr. Madhur Yadav, Dr. Ritika Sud, Dr. Aparna Aggarwal, Dr. Anil Gurtoo, Dr. Vijesh Vijayan')\n",
    "print('Department of Internal Medicine, Lady Harding Medical College')\n",
    "print('\\nApplication to be used for diagnosed cases of Covid-19 pneumonia on presentation to hospital with pneumonia symptoms.')\n",
    "print('\\nANC - Absolute Neutrophil Count\\n(TLC- Total Leukocyte Count may be used in place of ANC if ANC not available)')\n",
    "print('Clinical severity scale:')\n",
    "print('1 = MILD - SpO2 >/= 95%\\n2 = MODERATE - SpO2 90-94%\\n3 = SEVERE - SpO2 < 90%')\n",
    "print('Oxygen saturation parameter at room air.')\n",
    "print('\\nScore > 0.5 indicates high risk of mortality')\n",
    "display(severityInput)\n",
    "display(ancInput)\n",
    "display(vbox_result)"
   ]
  }
 ],
 "metadata": {
  "celltoolbar": "Tags",
  "kernelspec": {
   "display_name": "Python 3",
   "language": "python",
   "name": "python3"
  },
  "language_info": {
   "codemirror_mode": {
    "name": "ipython",
    "version": 3
   },
   "file_extension": ".py",
   "mimetype": "text/x-python",
   "name": "python",
   "nbconvert_exporter": "python",
   "pygments_lexer": "ipython3",
   "version": "3.9.5"
  }
 },
 "nbformat": 4,
 "nbformat_minor": 5
}
